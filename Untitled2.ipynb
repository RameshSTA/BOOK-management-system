{
  "nbformat": 4,
  "nbformat_minor": 0,
  "metadata": {
    "colab": {
      "provenance": [],
      "authorship_tag": "ABX9TyPsVrFdB3fvJNg1YShxY4WR",
      "include_colab_link": true
    },
    "kernelspec": {
      "name": "python3",
      "display_name": "Python 3"
    },
    "language_info": {
      "name": "python"
    }
  },
  "cells": [
    {
      "cell_type": "markdown",
      "metadata": {
        "id": "view-in-github",
        "colab_type": "text"
      },
      "source": [
        "<a href=\"https://colab.research.google.com/github/RameshSTA/BOOK-management-system/blob/main/Untitled2.ipynb\" target=\"_parent\"><img src=\"https://colab.research.google.com/assets/colab-badge.svg\" alt=\"Open In Colab\"/></a>"
      ]
    },
    {
      "cell_type": "code",
      "execution_count": null,
      "metadata": {
        "id": "P6r654LlCyqi"
      },
      "outputs": [],
      "source": [
        "import pandas  as  pd  \n",
        "import numpy as np  \n"
      ]
    },
    {
      "cell_type": "code",
      "source": [
        "print( \"helo ramesh shrestha that  is more clear  in the section that more celar  but still the maagement are more  imortant\")"
      ],
      "metadata": {
        "colab": {
          "base_uri": "https://localhost:8080/"
        },
        "id": "Zo46mNLIC4Yk",
        "outputId": "23f7c78d-6e66-401d-9788-b93ee3526d2a"
      },
      "execution_count": null,
      "outputs": [
        {
          "output_type": "stream",
          "name": "stdout",
          "text": [
            "helo ramesh shrestha that  is more clear  in the section that more celar  but still the maagement are more  imortant\n"
          ]
        }
      ]
    },
    {
      "cell_type": "code",
      "source": [
        "import pandas  as  pd  \n",
        "import  numpy as  np  \n"
      ],
      "metadata": {
        "id": "-sZ4KcVqDYYe"
      },
      "execution_count": 3,
      "outputs": []
    },
    {
      "cell_type": "code",
      "source": [
        "#if the programmig in the fucntionalirty that are more clear in the fuction without any challengs are really imortatn\n",
        "ramesh=23 \n",
        "if ramesh=='shrestha':\n",
        "    print('there is another name of student in the programming for the development taht are more clear  in the fuctionality without any chagnes but stll ')\n",
        "else: \n",
        "    print('there is another things coming without any challeges parts of the coding right things inthe construction')\n",
        "    "
      ],
      "metadata": {
        "colab": {
          "base_uri": "https://localhost:8080/"
        },
        "id": "i_veOA6Ci3r4",
        "outputId": "df70f637-22e6-4a96-ae4c-a36e732951bd"
      },
      "execution_count": 4,
      "outputs": [
        {
          "output_type": "stream",
          "name": "stdout",
          "text": [
            "there is another things coming without any challeges parts of the coding right things inthe construction\n"
          ]
        }
      ]
    },
    {
      "cell_type": "code",
      "source": [
        "shrestha_ther='trigger'\n",
        "series_ram=['ranesh','shrestha','butthere is another ','accurate']\n",
        "for i in series_ram:\n",
        "    print(i)\n",
        "    if i=='Ramesh':\n",
        "        print('there is another parts of the coding inside the themes that are really important for the programming in the concept of the mangamgne')\n",
        "\n",
        "else:\n",
        "    print('the progammer  may be confused about the management in the development of the scientific challenges')\n"
      ],
      "metadata": {
        "colab": {
          "base_uri": "https://localhost:8080/"
        },
        "id": "1y1VyNTqjsxT",
        "outputId": "a61b76bd-7d21-4faa-bfc1-14bbf7022957"
      },
      "execution_count": 6,
      "outputs": [
        {
          "output_type": "stream",
          "name": "stdout",
          "text": [
            "ranesh\n",
            "shrestha\n",
            "butthere is another \n",
            "accurate\n",
            "the progammer  may be confused about the management in the development of the scientific challenges\n"
          ]
        }
      ]
    },
    {
      "cell_type": "code",
      "source": [
        "# the creation of the management and other parts of the coding is more clear in the fuction of any scientific or other management of the chjallenges are \n",
        "def Ramesh_shrestha():\n",
        "    ramesh_name=input('Enter the name of student :')\n",
        "    ramesh_castname=input('Enter the casename of studenta:')\n",
        "    if ramesh_name=='Ramesh'and  ramesh_castname=='Shrestha':\\\n",
        "      print('The student information is correct for the further processcing and You can process for further process of hiring in the development of the computer, Thanks')\n",
        "    else:\n",
        "        print('thanks for inputing your information But Unfortunately, your information does not selected for further process, thanks')\n",
        "        \n"
      ],
      "metadata": {
        "id": "1XnLpSclkM7H"
      },
      "execution_count": 7,
      "outputs": []
    },
    {
      "cell_type": "code",
      "source": [
        "ramesh_shree=Ramesh_shrestha()\n",
        "ramesh_shree"
      ],
      "metadata": {
        "colab": {
          "base_uri": "https://localhost:8080/"
        },
        "id": "baHfQrl7lZfI",
        "outputId": "0b9248dd-b1ed-4c50-a01c-e502e1f91009"
      },
      "execution_count": 8,
      "outputs": [
        {
          "output_type": "stream",
          "name": "stdout",
          "text": [
            "Enter the name of student :Ramesh\n",
            "Enter the casename of studenta:Shrestha\n",
            "The student information is correct for the further processcing and You can process for further process of hiring in the development of the computer, Thanks\n"
          ]
        }
      ]
    },
    {
      "cell_type": "code",
      "source": [
        "#there is another parts of the programming in the sentence that are coming without any development of the programming without any challenges are really imporatn\n",
        "'''\n",
        "All the creation of the any that are coming without any challenges are really without any important information and continues without and human or other parts of the consrtruction\n",
        "irrational tax rate of the inforamtion and changed without any creation and management of the construction and really challenged. Talents of any students are coming without\n",
        "but still and reaction of  major and recruitement of the nepal and other country are best things in the develpemento fhte challenges are really coming but  things has been without\n",
        "Thanks!!!\n",
        "'''"
      ],
      "metadata": {
        "id": "BLa770FWlh7M"
      },
      "execution_count": null,
      "outputs": []
    }
  ]
}